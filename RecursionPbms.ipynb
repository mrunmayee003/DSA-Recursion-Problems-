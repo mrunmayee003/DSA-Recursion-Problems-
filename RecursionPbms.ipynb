{
 "cells": [
  {
   "cell_type": "code",
   "execution_count": 33,
   "metadata": {},
   "outputs": [
    {
     "name": "stdout",
     "output_type": "stream",
     "text": [
      "[0, 1, 2, 3, 5, 6]\n"
     ]
    }
   ],
   "source": [
    "# ------------------Sorting List using recursion--------------------\n",
    "def sorting(l):\n",
    "        if len(l) == 1:\n",
    "            return \n",
    "        \n",
    "        temp = l.pop()\n",
    "        sorting(l)\n",
    "        \n",
    "# ----------- with recursion -------------\n",
    "        insertAtPosition(l,temp)\n",
    "\n",
    "# # ----------- with normal -------------\n",
    "#         if l[-1] <= temp:\n",
    "#             l.insert(len(l),temp)\n",
    "#         else:    \n",
    "#             for i in range(len(l)):\n",
    "#                 if l[i] >= temp:\n",
    "#                     l.insert(i ,temp)\n",
    "#                     break\n",
    "               \n",
    "            \n",
    "def insertAtPosition(l2,val):\n",
    "    if len(l2) == 0 or l2[-1] <= val:\n",
    "        \n",
    "        l2.insert(len(l2) , val)\n",
    "        return 1\n",
    "    \n",
    "    #print(\"before:\",l2)\n",
    "    tem = l2.pop()\n",
    "#    print(\"tem:\",tem)\n",
    "#    print(\"after:\",l2)\n",
    "    insertAtPosition(l2 , val)\n",
    "    l2.insert(len(l2), tem) \n",
    "#     print(\"after\", l2)\n",
    "\n",
    "l1 = [3,2,5,1,6,0,]    \n",
    "sorting(l1) \n",
    "print(l1)"
   ]
  },
  {
   "cell_type": "code",
   "execution_count": 37,
   "metadata": {},
   "outputs": [
    {
     "name": "stdout",
     "output_type": "stream",
     "text": [
      "before : [2, 3, 4, 5, 9, 6, 4, 2, 6, 9, 0, 1, 3, 4]\n",
      "after: [4, 3, 1, 0, 9, 6, 2, 4, 6, 9, 5, 4, 3, 2]\n"
     ]
    }
   ],
   "source": [
    "# ------------------Reverse a stack--------------------\n",
    "\n",
    "def reversing(s):\n",
    "    if len(s) == 1:\n",
    "        return 1\n",
    "    \n",
    "    temp = s.pop()\n",
    "    reversing(s)\n",
    "    insert(s,temp)\n",
    "\n",
    "def insert(s2,tmp):\n",
    "    if len(s2) == 0:\n",
    "        s2.append(tmp)\n",
    "        return 1\n",
    "    \n",
    "    x = s2.pop()\n",
    "    \n",
    "    insert(s2,tmp)\n",
    "    s2.append(x)\n",
    "    \n",
    "s1 = [2,3,4,5,9,6,4,2,6,9,0,1,3,4]   \n",
    "# test = s1.copy()\n",
    "print(\"before :\",s1)\n",
    "reversing(s1)   \n",
    "print(\"after:\",s1)\n",
    "# print(s1 == test[::-1])"
   ]
  },
  {
   "cell_type": "code",
   "execution_count": 38,
   "metadata": {},
   "outputs": [
    {
     "name": "stdout",
     "output_type": "stream",
     "text": [
      "final: False\n"
     ]
    }
   ],
   "source": [
    "# ------------------Grammer Generration--------------------\n",
    "# 0\n",
    "# 0 1 \n",
    "# 0 1 1 0\n",
    "# 0 1 1 0 1 0 0 1\n",
    "# 0 1 1 0 1 0 0 1 1 0 0 1 0 1 1 0\n",
    "\n",
    "def grammer(n,k):\n",
    "   \n",
    "    if n == 1 and k == 1:\n",
    "        return 0\n",
    "#     print(\"n,k:\",n,k)\n",
    "    mid = (2 ** (n - 1)) // 2\n",
    "    \n",
    "    if (k <= mid):\n",
    "        ans = grammer(n-1,k)\n",
    "#         print(\"if:\",ans)\n",
    "        return ans\n",
    "    \n",
    "    else:\n",
    "        ans = not grammer(n-1, k-mid)\n",
    "#         print(\"else:\",ans)\n",
    "        return ans\n",
    "        \n",
    "print(\"final:\",grammer(5,7))    "
   ]
  },
  {
   "cell_type": "code",
   "execution_count": 39,
   "metadata": {},
   "outputs": [
    {
     "name": "stdout",
     "output_type": "stream",
     "text": [
      "maving disk: 1  from  sorce  to  destination\n",
      "maving disk: 2  from  sorce  to  help\n",
      "maving disk: 1  from  destination  to  help\n",
      "maving disk: 3  from  sorce  to  destination\n",
      "maving disk: 1  from  help  to  sorce\n",
      "maving disk: 2  from  help  to  destination\n",
      "maving disk: 1  from  sorce  to  destination\n"
     ]
    }
   ],
   "source": [
    "# ------------------Tower of Hanoi--------------------\n",
    "\n",
    "def tower(src, dest, hlpr, n):\n",
    "    if n == 1:\n",
    "        print(\"maving disk:\",n,\" from \",src,\" to \",dest)\n",
    "        return\n",
    "\n",
    "    tower(src, hlpr, dest, n-1)\n",
    "    print(\"maving disk:\",n,\" from \",src,\" to \",dest)\n",
    "    \n",
    "    tower(hlpr, dest, src, n-1)\n",
    "\n",
    "tower(\"sorce\", \"destination\",\"help\",3)    "
   ]
  },
  {
   "cell_type": "code",
   "execution_count": 42,
   "metadata": {},
   "outputs": [
    {
     "name": "stdout",
     "output_type": "stream",
     "text": [
      "{'', 'c', 'bc', 'ab', 'b', 'a', 'ac', 'abc'}\n"
     ]
    }
   ],
   "source": [
    "# ------------------Subset of string--------------------\n",
    "def subset(str1,op):\n",
    "    global counter\n",
    "    global set1\n",
    "    if len(str1) == 0:\n",
    "        counter += 1\n",
    "        set1.add(op)\n",
    "#         print(op)\n",
    "        return \n",
    "    \n",
    "    op1 = op\n",
    "    op2 = op+str1[0]  \n",
    "\n",
    "    str1 = str1[1:]\n",
    "    subset(str1, op1)\n",
    "    subset(str1,op2)\n",
    "    return set1\n",
    "\n",
    "global counter\n",
    "set1 = set()\n",
    "counter = 0\n",
    "print(subset(\"abc\",\"\"))\n"
   ]
  },
  {
   "cell_type": "code",
   "execution_count": 43,
   "metadata": {},
   "outputs": [
    {
     "name": "stdout",
     "output_type": "stream",
     "text": [
      "a b c\n",
      "a bc\n",
      "ab c\n",
      "abc\n"
     ]
    }
   ],
   "source": [
    "# ------------------Find all combinations of adding Spaces in String --------------------\n",
    "\n",
    "def space(ip,op):\n",
    "    if len(op) == 0:\n",
    "        op = ip[0]\n",
    "        ip = ip[1:]\n",
    "        \n",
    "    if len(ip) == 0:\n",
    "        print(op)\n",
    "        return\n",
    "    \n",
    "    op1 = op+\" \"+ip[0] \n",
    "    op2 = op+ip[0]\n",
    "    ip = ip[1 :]\n",
    "    \n",
    "    space(ip,op1)\n",
    "    space(ip,op2)\n",
    "    \n",
    "inputStr = \"abc\"\n",
    "outputStr = \"\"\n",
    "space(inputStr,outputStr)    \n"
   ]
  },
  {
   "cell_type": "code",
   "execution_count": 44,
   "metadata": {},
   "outputs": [
    {
     "name": "stdout",
     "output_type": "stream",
     "text": [
      "ab1c\n",
      "ab1C\n",
      "aB1c\n",
      "aB1C\n",
      "Ab1c\n",
      "Ab1C\n",
      "AB1c\n",
      "AB1C\n"
     ]
    }
   ],
   "source": [
    "# ------------------Permutation with case change--------------------\n",
    "\n",
    "def caseChange(ip,op):\n",
    "    if len(ip) == 0:\n",
    "        print(op)\n",
    "        return\n",
    "    \n",
    "    if  ip[0].isalpha():   \n",
    "        op1 = op + ip[0].lower()\n",
    "        op2 = op + ip[0].upper()\n",
    "        ip = ip[1:]\n",
    "\n",
    "        caseChange(ip,op1)\n",
    "        caseChange(ip,op2)\n",
    "        return\n",
    "    \n",
    "    else:\n",
    "        op1 = op + ip[0]\n",
    "        ip = ip[1:]\n",
    "        caseChange(ip,op1)\n",
    "\n",
    "caseChange(\"aB1C\",\"\")"
   ]
  },
  {
   "cell_type": "code",
   "execution_count": 45,
   "metadata": {},
   "outputs": [
    {
     "name": "stdout",
     "output_type": "stream",
     "text": [
      "['((()))', '(()())', '(())()', '()(())', '()()()']\n"
     ]
    }
   ],
   "source": [
    "# ------------------Generate all Balanced Parentheses--------------------\n",
    "\n",
    "def balancePara(opn, close, output, arr):\n",
    "    if opn == 0 and close == 0:\n",
    "        arr.append(output)\n",
    "        return arr\n",
    "    \n",
    "    if not opn == 0:\n",
    "        op1 = output + \"(\"\n",
    "        balancePara(opn-1, close, op1, arr)\n",
    "    \n",
    "    if close > opn:\n",
    "        op2 = output + \")\"\n",
    "        balancePara(opn, close-1, op2, arr)\n",
    "    return arr \n",
    "\n",
    "n = 3\n",
    "arr = []\n",
    "opn = n\n",
    "close = n\n",
    "output = \"\"\n",
    "\n",
    "balancePara(opn, close, output, arr)\n",
    "print(arr)"
   ]
  },
  {
   "cell_type": "code",
   "execution_count": 46,
   "metadata": {},
   "outputs": [
    {
     "name": "stdout",
     "output_type": "stream",
     "text": [
      "11111\n",
      "11110\n",
      "11101\n",
      "11100\n",
      "11011\n",
      "11010\n",
      "11001\n",
      "10111\n",
      "10110\n",
      "10101\n"
     ]
    }
   ],
   "source": [
    "# ------------------Print N-bit binary numbers having more 1’s than 0’s for any prefix--------------------\n",
    "\n",
    "def binary(n,one,zero,op):\n",
    "    if n == 0:\n",
    "        print(op)\n",
    "        return\n",
    "    \n",
    "    op1 = op + \"1\"\n",
    "    binary(n-1, one+1, zero, op1)\n",
    "    \n",
    "    if one > zero:\n",
    "        op2 = op + \"0\"\n",
    "        binary(n-1, one, zero+1, op2)\n",
    "    \n",
    "\n",
    "n = 5\n",
    "one = 0\n",
    "zero = 0\n",
    "op = \"\"\n",
    "binary(n,one,zero,op)    "
   ]
  },
  {
   "cell_type": "code",
   "execution_count": 48,
   "metadata": {},
   "outputs": [
    {
     "name": "stdout",
     "output_type": "stream",
     "text": [
      "24\n"
     ]
    }
   ],
   "source": [
    "# -----------------Josephus Problem | Game of Death in a circle | Execution in Circle-----------------\n",
    "\n",
    "def josephus(index,k,arr):\n",
    "    if len(arr) == 1:\n",
    "        print(arr[0])\n",
    "        return\n",
    "    \n",
    "    index = (index + k) % len(arr)\n",
    "    del arr[index]\n",
    "    josephus(index, k, arr)\n",
    "    return\n",
    "    \n",
    "n = 40\n",
    "k = 7\n",
    "# reducing k by 1 to maintain the index of arr\n",
    "k -= 1\n",
    "arr = []\n",
    "for i in range (1,n+1):\n",
    "    arr.append(i)\n",
    "\n",
    "index = 0       \n",
    "josephus(index,k,arr)    \n",
    "    "
   ]
  }
 ],
 "metadata": {
  "kernelspec": {
   "display_name": "Python 3",
   "language": "python",
   "name": "python3"
  },
  "language_info": {
   "codemirror_mode": {
    "name": "ipython",
    "version": 3
   },
   "file_extension": ".py",
   "mimetype": "text/x-python",
   "name": "python",
   "nbconvert_exporter": "python",
   "pygments_lexer": "ipython3",
   "version": "3.8.3"
  }
 },
 "nbformat": 4,
 "nbformat_minor": 4
}
